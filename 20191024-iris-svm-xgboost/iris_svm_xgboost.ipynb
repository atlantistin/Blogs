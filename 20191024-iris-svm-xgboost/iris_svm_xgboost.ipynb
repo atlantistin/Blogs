{
 "cells": [
  {
   "cell_type": "markdown",
   "metadata": {},
   "source": [
    "## 1. 概述"
   ]
  },
  {
   "cell_type": "markdown",
   "metadata": {},
   "source": [
    "* 李航《统计学习方法》（第一版）主要包括如下十大模型方法：\n",
    "    * 感知机，Perceptron\n",
    "    * K近邻，KNN，k-nearest neighbor\n",
    "    * 朴素贝叶斯，NB，naive bayes\n",
    "    * 决策树，DT，decision tree\n",
    "    * 逻辑斯谛回归，LR，logistic regression\n",
    "    * 支持向量机，SVM，support vector machines\n",
    "    * 提升方法，Boosting\n",
    "    * 期望最大化，EM，expectation maximization\n",
    "    * 隐马尔科夫，HMM，hidden markov\n",
    "    * 条件随机场，CRF，conditional random field\n",
    "    \n",
    "记忆口诀：感邻贝树逻，S提E马随\n",
    "\n",
    "形象解释：为了感谢邻居背着一箩筐小树苗，还有四个蹄子的一匹马跟在身后\n",
    "\n",
    "代码链接：https://github.com/fengdu78/lihang-code"
   ]
  },
  {
   "cell_type": "markdown",
   "metadata": {},
   "source": [
    "* SKlearn 主要包含如下六大模块：\n",
    "    * 分类\n",
    "    * 回归\n",
    "    * 聚类\n",
    "    * 降维\n",
    "    * 模型选择\n",
    "    * 数据预处理\n",
    "    \n",
    "![](./sklearn.png)"
   ]
  },
  {
   "cell_type": "markdown",
   "metadata": {},
   "source": [
    "* XGBoost 向来被称为处理 Kaggle 竞赛中非感知数据的刷榜神器，演化路线如下：\n",
    "\n",
    "![](./xgboost.jpg)"
   ]
  },
  {
   "cell_type": "markdown",
   "metadata": {},
   "source": [
    "## 2. 环境\n",
    "* pip install scikit-learn\n",
    "* pip install xgboost\n",
    "\n",
    "本文主要基于最简单的分类数据集IRIS做简单演示，对比SVM和XGBoost的效果。"
   ]
  },
  {
   "cell_type": "markdown",
   "metadata": {},
   "source": [
    "## 3. SVM"
   ]
  },
  {
   "cell_type": "markdown",
   "metadata": {},
   "source": [
    "### 3.1 数据及模型和评测"
   ]
  },
  {
   "cell_type": "code",
   "execution_count": 4,
   "metadata": {
    "collapsed": true
   },
   "outputs": [],
   "source": [
    "from sklearn import datasets  # 导入自带数据集\n",
    "from sklearn import svm  # 导入svm模块\n",
    "from sklearn.model_selection import train_test_split  # 数据集划分"
   ]
  },
  {
   "cell_type": "code",
   "execution_count": 9,
   "metadata": {},
   "outputs": [
    {
     "name": "stdout",
     "output_type": "stream",
     "text": [
      "(150, 4) (150,) (120, 4) (30, 4) (120,) (30,)\n"
     ]
    }
   ],
   "source": [
    "iris = datasets.load_iris()  # 数据的加载\n",
    "X, Y = iris.data, iris.target  # 输入及输出\n",
    "X_train, X_test, Y_train, Y_test = train_test_split(X, Y, test_size=0.2)\n",
    "print(X.shape,\n",
    "      Y.shape,\n",
    "      X_train.shape,\n",
    "      X_test.shape,\n",
    "      Y_train.shape,\n",
    "      Y_test.shape)"
   ]
  },
  {
   "cell_type": "code",
   "execution_count": 10,
   "metadata": {},
   "outputs": [
    {
     "data": {
      "text/plain": [
       "SVC(C=1.0, cache_size=200, class_weight=None, coef0=0.0,\n",
       "  decision_function_shape=None, degree=3, gamma='auto', kernel='rbf',\n",
       "  max_iter=-1, probability=False, random_state=None, shrinking=True,\n",
       "  tol=0.001, verbose=False)"
      ]
     },
     "execution_count": 10,
     "metadata": {},
     "output_type": "execute_result"
    }
   ],
   "source": [
    "model = svm.SVC()  # 初始化模型\n",
    "model.fit(X_train, Y_train)  # 训练"
   ]
  },
  {
   "cell_type": "code",
   "execution_count": 11,
   "metadata": {},
   "outputs": [
    {
     "data": {
      "text/plain": [
       "0.93333333333333335"
      ]
     },
     "execution_count": 11,
     "metadata": {},
     "output_type": "execute_result"
    }
   ],
   "source": [
    "model.score(X_test, Y_test)"
   ]
  },
  {
   "cell_type": "markdown",
   "metadata": {},
   "source": [
    "### 3.2 模型序列化及推理"
   ]
  },
  {
   "cell_type": "code",
   "execution_count": 13,
   "metadata": {},
   "outputs": [
    {
     "data": {
      "text/plain": [
       "['iris-svm.pkl']"
      ]
     },
     "execution_count": 13,
     "metadata": {},
     "output_type": "execute_result"
    }
   ],
   "source": [
    "from sklearn.externals import joblib  # 环境\n",
    "\n",
    "joblib.dump(model, \"iris-svm.pkl\")  # 序列化"
   ]
  },
  {
   "cell_type": "code",
   "execution_count": 18,
   "metadata": {},
   "outputs": [
    {
     "name": "stdout",
     "output_type": "stream",
     "text": [
      "[2] 2\n"
     ]
    },
    {
     "name": "stderr",
     "output_type": "stream",
     "text": [
      "C:\\App\\Anaconda3\\lib\\site-packages\\sklearn\\utils\\validation.py:395: DeprecationWarning: Passing 1d arrays as data is deprecated in 0.17 and will raise ValueError in 0.19. Reshape your data either using X.reshape(-1, 1) if your data has a single feature or X.reshape(1, -1) if it contains a single sample.\n",
      "  DeprecationWarning)\n"
     ]
    }
   ],
   "source": [
    "model_iris_svm = joblib.load(\"iris-svm.pkl\")  # 加载模型\n",
    "out_ = model_iris_svm.predict(X_test[0, :])\n",
    "real = Y_test[0]\n",
    "print(out_, real)"
   ]
  },
  {
   "cell_type": "markdown",
   "metadata": {},
   "source": [
    "## 4. XGBoost"
   ]
  },
  {
   "cell_type": "markdown",
   "metadata": {},
   "source": [
    "参考1：https://www.kdnuggets.com/2017/03/simple-xgboost-tutorial-iris-dataset.html\n",
    "\n",
    "参考2：https://zhuanlan.zhihu.com/p/31182879"
   ]
  },
  {
   "cell_type": "markdown",
   "metadata": {},
   "source": [
    "### 4.1 简单入手"
   ]
  },
  {
   "cell_type": "code",
   "execution_count": 19,
   "metadata": {
    "collapsed": true
   },
   "outputs": [],
   "source": [
    "import xgboost as xgb  # 环境"
   ]
  },
  {
   "cell_type": "code",
   "execution_count": 20,
   "metadata": {
    "collapsed": true
   },
   "outputs": [],
   "source": [
    "# 将 numpy 数据转化为 xgboost 的 DMatrix 数据\n",
    "d_train = xgb.DMatrix(X_train, label=Y_train)  # 训练集\n",
    "d_test = xgb.DMatrix(X_test, label=Y_test)  # 测试集"
   ]
  },
  {
   "cell_type": "code",
   "execution_count": 36,
   "metadata": {
    "collapsed": true
   },
   "outputs": [],
   "source": [
    "# XGBoost 参数设置：不同的数据集使用不同的参数会表现得更好\n",
    "params = {\n",
    "    'booster': 'gbtree',\n",
    "    'objective': 'multi:softmax',\n",
    "    'num_class': 3,\n",
    "    'gamma': 0.1,\n",
    "    'max_depth': 6,\n",
    "    'lambda': 2,\n",
    "    'subsample': 0.7,\n",
    "    'colsample_bytree': 0.7,\n",
    "    'min_child_weight': 3,\n",
    "    'silent': 1,\n",
    "    'eta': 0.1,\n",
    "    'seed': 1000,\n",
    "    'nthread': 4,\n",
    "}\n",
    "\n",
    "num_round = 500  # the number of training iterations"
   ]
  },
  {
   "cell_type": "code",
   "execution_count": 44,
   "metadata": {
    "collapsed": true
   },
   "outputs": [],
   "source": [
    "# 模型训练\n",
    "model_iris_xgboost = xgb.train(param, d_train, num_round)"
   ]
  },
  {
   "cell_type": "code",
   "execution_count": 45,
   "metadata": {
    "collapsed": true
   },
   "outputs": [],
   "source": [
    "# 模型结构\n",
    "model_iris_xgboost.dump_model(\"iris_xgboost.txt\")"
   ]
  },
  {
   "cell_type": "code",
   "execution_count": 46,
   "metadata": {},
   "outputs": [
    {
     "data": {
      "text/plain": [
       "array([[  7.23272283e-03,   2.63873991e-02,   9.66379821e-01],\n",
       "       [  9.87908781e-01,   1.08116809e-02,   1.27950928e-03],\n",
       "       [  1.47451961e-03,   1.07322144e-03,   9.97452199e-01],\n",
       "       [  2.37509632e-03,   9.96875167e-01,   7.49728351e-04],\n",
       "       [  4.49852832e-03,   9.93392050e-01,   2.10937834e-03],\n",
       "       [  1.47450750e-03,   1.08149787e-03,   9.97444034e-01],\n",
       "       [  4.35259007e-03,   9.90142465e-01,   5.50486334e-03],\n",
       "       [  9.92838919e-01,   5.87525545e-03,   1.28589466e-03],\n",
       "       [  4.09123302e-03,   9.88222539e-01,   7.68627552e-03],\n",
       "       [  7.77279818e-03,   9.87108409e-01,   5.11880685e-03],\n",
       "       [  5.63382776e-03,   9.91724432e-01,   2.64172326e-03],\n",
       "       [  5.09332819e-03,   9.92518425e-01,   2.38828105e-03],\n",
       "       [  9.92493451e-01,   6.22116169e-03,   1.28544716e-03],\n",
       "       [  9.87908781e-01,   1.08116809e-02,   1.27950928e-03],\n",
       "       [  4.05580401e-02,   6.63167238e-01,   2.96274751e-01],\n",
       "       [  4.78960527e-03,   9.93698478e-01,   1.51189859e-03],\n",
       "       [  9.92838919e-01,   5.87525545e-03,   1.28589466e-03],\n",
       "       [  2.12180540e-02,   8.49925458e-01,   1.28856480e-01],\n",
       "       [  9.92838919e-01,   5.87525545e-03,   1.28589466e-03],\n",
       "       [  4.17817896e-03,   9.90537584e-01,   5.28427958e-03],\n",
       "       [  4.17817896e-03,   9.90537584e-01,   5.28427958e-03],\n",
       "       [  1.47451961e-03,   1.07322144e-03,   9.97452199e-01],\n",
       "       [  4.25838213e-03,   9.86985862e-01,   8.75576213e-03],\n",
       "       [  4.44163708e-03,   9.75944042e-01,   1.96142811e-02],\n",
       "       [  1.46313419e-03,   9.95122015e-01,   3.41480318e-03],\n",
       "       [  5.63382776e-03,   9.91724432e-01,   2.64172326e-03],\n",
       "       [  1.41233264e-03,   9.97961521e-01,   6.26133580e-04],\n",
       "       [  5.48171951e-03,   9.91947949e-01,   2.57039908e-03],\n",
       "       [  6.53205905e-03,   3.04865688e-02,   9.62981403e-01],\n",
       "       [  2.58926842e-02,   8.28525007e-01,   1.45582274e-01]], dtype=float32)"
      ]
     },
     "execution_count": 46,
     "metadata": {},
     "output_type": "execute_result"
    }
   ],
   "source": [
    "# 模型推理\n",
    "model_iris_xgboost.predict(d_test)"
   ]
  },
  {
   "cell_type": "markdown",
   "metadata": {},
   "source": [
    "* 实际上输出数据的每一列分别代表对应的类别号 0、1、2\n",
    "* 对每个数据点选择对应行概率最高那一列的索引作为最终的输出结果"
   ]
  },
  {
   "cell_type": "code",
   "execution_count": 56,
   "metadata": {},
   "outputs": [
    {
     "name": "stdout",
     "output_type": "stream",
     "text": [
      "[2 0 2 1 1 2 1 0 1 1 1 1 0 0 1 1 0 1 0 1 1 2 1 1 1 1 1 1 2 1]\n"
     ]
    }
   ],
   "source": [
    "import numpy as np\n",
    "\n",
    "result = np.array([np.argmax(line) for line in model_iris_xgboost.predict(d_test)])\n",
    "\n",
    "print(result)"
   ]
  },
  {
   "cell_type": "code",
   "execution_count": 51,
   "metadata": {},
   "outputs": [
    {
     "data": {
      "image/png": "[encoded data removed]",
      "text/plain": [
       "<matplotlib.figure.Figure at 0x1df71259400>"
      ]
     },
     "metadata": {},
     "output_type": "display_data"
    }
   ],
   "source": [
    "# 显示重要特征\n",
    "import matplotlib.pyplot as plt\n",
    "from xgboost import plot_importance\n",
    "plot_importance(model_iris_xgboost)\n",
    "plt.show()"
   ]
  },
  {
   "cell_type": "markdown",
   "metadata": {},
   "source": [
    "### 4.2 存储推理"
   ]
  },
  {
   "cell_type": "code",
   "execution_count": 49,
   "metadata": {},
   "outputs": [
    {
     "data": {
      "text/plain": [
       "0.91228070175438603"
      ]
     },
     "execution_count": 49,
     "metadata": {},
     "output_type": "execute_result"
    }
   ],
   "source": [
    "# 测评结果\n",
    "from sklearn.metrics import precision_score\n",
    "\n",
    "precision_score(Y_test, result, average=\"macro\")"
   ]
  },
  {
   "cell_type": "code",
   "execution_count": 30,
   "metadata": {},
   "outputs": [
    {
     "data": {
      "text/plain": [
       "['iris_xgboost.pkl']"
      ]
     },
     "execution_count": 30,
     "metadata": {},
     "output_type": "execute_result"
    }
   ],
   "source": [
    "# 序列化\n",
    "joblib.dump(model_iris_xgboost, \"iris_xgboost.pkl\", compress=True)"
   ]
  },
  {
   "cell_type": "code",
   "execution_count": 59,
   "metadata": {},
   "outputs": [
    {
     "name": "stdout",
     "output_type": "stream",
     "text": [
      "(4,) (1, 4)\n",
      "2 2\n"
     ]
    }
   ],
   "source": [
    "# 加载\n",
    "model_iris_xgboost = joblib.load(\"iris_xgboost.pkl\")\n",
    "# 升维\n",
    "x = np.expand_dims(X_test[0, :], axis=0)\n",
    "print(X_test[0, :].shape, x.shape)\n",
    "x = xgb.DMatrix(x)\n",
    "# 推理\n",
    "out_ = np.argmax(model_iris_xgboost.predict(x))\n",
    "# 结果           \n",
    "real = Y_test[0]\n",
    "print(out_, real)"
   ]
  }
 ],
 "metadata": {
  "kernelspec": {
   "display_name": "Python 3",
   "language": "python",
   "name": "python3"
  },
  "language_info": {
   "codemirror_mode": {
    "name": "ipython",
    "version": 3
   },
   "file_extension": ".py",
   "mimetype": "text/x-python",
   "name": "python",
   "nbconvert_exporter": "python",
   "pygments_lexer": "ipython3",
   "version": "3.6.1"
  },
  "varInspector": {
   "cols": {
    "lenName": 16,
    "lenType": 16,
    "lenVar": 40
   },
   "kernels_config": {
    "python": {
     "delete_cmd_postfix": "",
     "delete_cmd_prefix": "del ",
     "library": "var_list.py",
     "varRefreshCmd": "print(var_dic_list())"
    },
    "r": {
     "delete_cmd_postfix": ") ",
     "delete_cmd_prefix": "rm(",
     "library": "var_list.r",
     "varRefreshCmd": "cat(var_dic_list()) "
    }
   },
   "types_to_exclude": [
    "module",
    "function",
    "builtin_function_or_method",
    "instance",
    "_Feature"
   ],
   "window_display": false
  }
 },
 "nbformat": 4,
 "nbformat_minor": 2
}
